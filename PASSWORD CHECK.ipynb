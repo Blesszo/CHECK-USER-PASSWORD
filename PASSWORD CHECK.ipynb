{
 "cells": [
  {
   "cell_type": "code",
   "execution_count": 78,
   "id": "43411cf1",
   "metadata": {},
   "outputs": [
    {
     "name": "stdout",
     "output_type": "stream",
     "text": [
      "ENTER THE LENGTH OF THE PASSWORD: 9\n",
      "\n",
      "PASSWORD =  o+Eed75D!\n"
     ]
    }
   ],
   "source": [
    "# A PROGRAM USE TO GENERATE A PASSWORD FOR A USER BASE ON THE LENGHT HE ENTERS\n",
    "\n",
    "# WRITTEN BY TENJOH BLESS ON THE 12/05/2023\n",
    "import random\n",
    "import string\n",
    "\n",
    "def get_password(lengh):\n",
    "    characters=string.ascii_letters+string.punctuation+string.digits  # Define the posible characters for the password\n",
    "    \n",
    "    shuffled_chars=random.sample (characters, len(characters)) # shuffled the characters to produce a good password\n",
    "    \n",
    "    password=''.join(random.sample(shuffled_chars,length))\n",
    "    \n",
    "    return password\n",
    "\n",
    "length=int(input(\"ENTER THE LENGTH OF THE PASSWORD: \"))\n",
    "\n",
    "password=get_password(length)\n",
    "\n",
    "print(\"\\nPASSWORD = \",password)"
   ]
  },
  {
   "cell_type": "code",
   "execution_count": 55,
   "id": "7c8c41f3",
   "metadata": {},
   "outputs": [
    {
     "name": "stdout",
     "output_type": "stream",
     "text": [
      "L = [0, 1, 2, 3, 4, 5, 6, 7, 8, 9, 10, 11, 12, 13, 14, 15, 16, 17, 18, 19]\n",
      "B = [18, 13, 11, 4, 6, 3]\n",
      "None\n",
      "4\n"
     ]
    }
   ],
   "source": [
    "# EXAMPLE OF THINGS THE IMPORT RANDOM LIBARY CAN DO\n",
    "import numpy as np\n",
    "L=[]\n",
    "for i in range(0,20):\n",
    "    L.append(i)\n",
    "    \n",
    "print(f\"L = {L}\")\n",
    "\n",
    "B=random.sample(L,6) #  random.sample(L,n) pick random  elements in the list depending on the value of n\n",
    "\n",
    "print(f\"B = {B}\")\n",
    "\n",
    "C=random.shuffle(L)\n",
    "print(C)\n",
    "\n",
    "D=random.randint(2,5) # generate and integer btw 2 and 5\n",
    "print(D)"
   ]
  },
  {
   "cell_type": "code",
   "execution_count": 84,
   "id": "69da0b68",
   "metadata": {},
   "outputs": [
    {
     "name": "stdout",
     "output_type": "stream",
     "text": [
      "\n",
      "PLEASE ENTER YOUR PASSWORD: dddff2SDFFGG344\n",
      "\n",
      "A GOOD PASSWORD MUST CONTAIN AT LEAST ONE SPECIAL CHARACTER (E.G @)\n",
      "\n",
      "  ENTER ANOTHER PASSWORD: DFFGfggg2334df\n",
      "\n",
      "A GOOD PASSWORD MUST CONTAIN AT LEAST ONE SPECIAL CHARACTER (E.G @)\n",
      "\n",
      "  ENTER ANOTHER PASSWORD: 3df#\n",
      "\n",
      "3DF# IS A GOOD PASSWORD\n"
     ]
    }
   ],
   "source": [
    "# A PROGRAM TO CHECK THE STRENGTH OF A PASSWORD ENTLEAST 12 DIGITS ENTER ANOTHER PASSWORD: ER BY A USER\n",
    "\n",
    "# WRITTEN BY TENJOH BLESS ON THE 12/05/2023\n",
    "\n",
    "def check_password(password):\n",
    "    \n",
    "    while len(password)<12:\n",
    "        \n",
    "        print(\"\\nA GOOD PASSWORD SHOULD CONTAIN ATLEAST 12 DIGITS\")\n",
    "        \n",
    "        password=input(\"\\n ENTER ANOTHER PASSWORD: \")\n",
    "        \n",
    "    while not re.search('[a-z]',password):\n",
    "        \n",
    "        print(\"\\nA GOOD PASSWORD MUST CONTAIN AT LEAST ONE LOWER CASE LETTER\")\n",
    "        \n",
    "        password=input(\"\\n  ENTER ANOTHER PASSWORD: \")\n",
    "        \n",
    "             \n",
    "    while not re.search('[A-Z]',password):\n",
    "        \n",
    "        print(\"\\nA GOOD PASSWORD MUST CONTAIN AT LEAST ONE UPPER CASE LETTER\")\n",
    "        \n",
    "        password=input(\"\\n  ENTER ANOTHER PASSWORD: \")\n",
    "        \n",
    "             \n",
    "    while not re.search('[0-9]',password):\n",
    "        \n",
    "        print(\"\\nA GOOD PASSWORD MUST CONTAIN AT LEAST ONE DIGIT\")\n",
    "        \n",
    "        password=input(\"\\n  ENTER ANOTHER PASSWORD: \")\n",
    "    \n",
    "    while not re.search('[!@#$%^&*()_+]',password):\n",
    "        \n",
    "        print(\"\\nA GOOD PASSWORD MUST CONTAIN AT LEAST ONE SPECIAL CHARACTER (E.G @)\")\n",
    "        \n",
    "        password=input(\"\\n  ENTER ANOTHER PASSWORD: \")\n",
    "        \n",
    "    return password\n",
    "\n",
    "password1=input(\"\\nPLEASE ENTER YOUR PASSWORD: \")\n",
    "\n",
    "password=check_password(password1)\n",
    "\n",
    "print(f\"\\n{password} is a good password\".upper())"
   ]
  },
  {
   "cell_type": "code",
   "execution_count": null,
   "id": "99d7f946",
   "metadata": {},
   "outputs": [],
   "source": []
  },
  {
   "cell_type": "code",
   "execution_count": null,
   "id": "f0cf6960",
   "metadata": {},
   "outputs": [],
   "source": []
  }
 ],
 "metadata": {
  "kernelspec": {
   "display_name": "Python 3 (ipykernel)",
   "language": "python",
   "name": "python3"
  },
  "language_info": {
   "codemirror_mode": {
    "name": "ipython",
    "version": 3
   },
   "file_extension": ".py",
   "mimetype": "text/x-python",
   "name": "python",
   "nbconvert_exporter": "python",
   "pygments_lexer": "ipython3",
   "version": "3.11.3"
  }
 },
 "nbformat": 4,
 "nbformat_minor": 5
}
